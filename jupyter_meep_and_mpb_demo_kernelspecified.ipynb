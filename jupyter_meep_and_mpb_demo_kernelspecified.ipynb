{
 "cells": [
  {
   "cell_type": "markdown",
   "id": "0102cd31-75e7-4e90-8e03-53c87d8dacfb",
   "metadata": {
    "tags": []
   },
   "source": [
    "# MEEP demo"
   ]
  },
  {
   "cell_type": "code",
   "execution_count": null,
   "id": "9343c4ca-b7c3-4e9a-a7b1-c508b3bcea28",
   "metadata": {},
   "outputs": [],
   "source": [
    "import meep as mp\n",
    "cell = mp.Vector3(16, 8, 0)\n",
    "geometry = [mp.Block(mp.Vector3(1e20, 1, 1e20),\n",
    "                     center=mp.Vector3(0, 0),\n",
    "                     material=mp.Medium(epsilon=12))]\n",
    "sources = [mp.Source(mp.ContinuousSource(frequency=0.15),\n",
    "                     component=mp.Ez,\n",
    "                     center=mp.Vector3(-7,0))]\n",
    "pml_layers = [mp.PML(1.0)]\n",
    "resolution = 10\n",
    "sim = mp.Simulation(cell_size=cell,\n",
    "                    boundary_layers=pml_layers,\n",
    "                    geometry=geometry,\n",
    "                    sources=sources,\n",
    "                    resolution=resolution)\n",
    "sim.run(until=200)\n",
    "\n",
    "import numpy as np\n",
    "import matplotlib.pyplot as plt\n",
    "\n",
    "eps_data = sim.get_array(center=mp.Vector3(), size=cell, component=mp.Dielectric)\n",
    "plt.figure()\n",
    "plt.imshow(eps_data.transpose(), interpolation='spline36', cmap='binary')\n",
    "plt.axis('off')\n",
    "plt.show()\n",
    "\n",
    "ez_data = sim.get_array(center=mp.Vector3(), size=cell, component=mp.Ez)\n",
    "plt.figure()\n",
    "plt.imshow(eps_data.transpose(), interpolation='spline36', cmap='binary')\n",
    "plt.imshow(ez_data.transpose(), interpolation='spline36', cmap='RdBu', alpha=0.9)\n",
    "plt.axis('off')"
   ]
  },
  {
   "cell_type": "markdown",
   "id": "b4765c9a-5b2e-4512-aa9b-0011a73296a1",
   "metadata": {
    "tags": []
   },
   "source": [
    "# MPB demo"
   ]
  },
  {
   "cell_type": "code",
   "execution_count": null,
   "id": "a1b8125a-b59a-46bb-b289-e715fa186666",
   "metadata": {},
   "outputs": [],
   "source": [
    "import math\n",
    "import meep as mp\n",
    "from meep import mpb\n",
    "import numpy as np\n",
    "\n",
    "num_bands = 2\n",
    "\n",
    "k_points = [mp.Vector3(-0.5), # Brillouin zone edge\n",
    "            mp.Vector3(0),    # Gamma\n",
    "            mp.Vector3(0.5)]  # Brillouin zone edge\n",
    "\n",
    "k_points = mp.interpolate(4, k_points)\n",
    "\n",
    "n1 = np.sqrt(1)\n",
    "n2 = np.sqrt(13)\n",
    "t1 = 0.5\n",
    "t2 = 0.5\n",
    "a = t1+t1\n",
    "\n",
    "block1 = mp.Block(center=mp.Vector3(-a/2+t1/2),\n",
    "          size=mp.Vector3(t1, mp.inf, mp.inf),\n",
    "          material=mp.Medium(index=n1))\n",
    "\n",
    "block2 = mp.Block(center=mp.Vector3(t1/2),\n",
    "          size=mp.Vector3(t2, mp.inf, mp.inf),\n",
    "          material=mp.Medium(index=n2))\n",
    "\n",
    "geometry = [block1, block2]\n",
    "\n",
    "geometry_lattice = mp.Lattice(size=mp.Vector3(1)) # 1D lattice\n",
    "\n",
    "resolution = 32\n",
    "\n",
    "ms = mpb.ModeSolver(num_bands=num_bands,\n",
    "                    k_points=k_points,\n",
    "                    geometry=geometry,\n",
    "                    geometry_lattice=geometry_lattice,\n",
    "                    resolution=resolution)\n",
    "\n",
    "\n",
    "# TE bands\n",
    "ms.run_te()\n",
    "\n",
    "# quick plotting\n",
    "import matplotlib.pyplot as plt\n",
    "kx = [k[0] for k in ms.k_points]\n",
    "plt.plot(kx, ms.all_freqs)\n",
    "plt.xlabel('k index')\n",
    "plt.ylabel('$a/\\lambda$')\n",
    "plt.xlim([-0.5,0.5])\n",
    "plt.ylim([0,0.30])"
   ]
  }
 ],
 "metadata": {
  "kernelspec": {
   "display_name": "haha2",
   "language": "python",
   "name": "haha2"
  },
  "language_info": {
   "codemirror_mode": {
    "name": "ipython",
    "version": 3
   },
   "file_extension": ".py",
   "mimetype": "text/x-python",
   "name": "python",
   "nbconvert_exporter": "python",
   "pygments_lexer": "ipython3",
   "version": "3.10.6"
  }
 },
 "nbformat": 4,
 "nbformat_minor": 5
}
